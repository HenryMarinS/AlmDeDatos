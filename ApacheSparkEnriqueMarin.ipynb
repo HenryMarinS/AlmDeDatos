{
 "cells": [
  {
   "attachments": {},
   "cell_type": "markdown",
   "id": "9a655788",
   "metadata": {},
   "source": [
    "# Apache Spark"
   ]
  },
  {
   "attachments": {},
   "cell_type": "markdown",
   "id": "9548c4a6",
   "metadata": {},
   "source": [
    "\n",
    "En esta actividad vamos a realizar un procesamiento de datos de la manera tradicional (con Python+Pandas) y usando programación distribuida con Apache Spark. Para ello se deben realizar los siguientes pasos.\n",
    "\n",
    "#### Parte A\n",
    "\n",
    "1. Descargar el dataset \"Movielens\" con información de valoraciones de películas del siguiente enlace: https://files.grouplens.org/datasets/movielens/ml-latest.zipLinks to an external site. Los archivos con los que vamos a trabajar del zip son \"movies.csv\" y \"ratings.csv\".\n",
    "2. Crear dos programas en python con pandas (pueden ser notebooks) que realicen las siguientes tareas:\n",
    "- Contar cuántas veces aparece cada tipo de valoración (cuantas veces se ha dado una estrella, cuantas se han dado 1.5, cuantas 2, etc.) y que se muestre por pantalla de forma ordenada. Imprimir el tiempo que se tarda en hacer el proceso.\n",
    "- Calcular la valoración media de cada película, lo añada como nueva columna a los datos del dataset \"movies.csv\" y lo guarde como un nuevo archivo \"movies_rating.csv\".Para ambos casos, imprimir el tiempo que se tarda en hacer el proceso. Estos programas los debéis desarrollar en vuestros ordenadores.\n",
    "\n",
    "#### Parte B\n",
    "\n",
    "1. Conectarse al clúster de la universidad para ejecutar tareas con Spark sobre el clúster.\n",
    "2. Utilizando los datos de \"movies.csv\" y \"ratings.csv\" que se encuentran en la carpeta /data/movielens de HDFS del clúster, escribir dos programas en python (también pueden ser notebooks) con Spark (también pueden ser notebooks) que realicen las mismas tareas que las del apartado A. Calcular el tiempo que tarda cada tarea con Spark.\n",
    "\n",
    "Escribir una memoria que describa el trabajo realizado, explicando el código, los problemas que habéis encontrado, los resultados con los tiempos, y una comparativa de ellos. Incluir un apartado de conclusiones comentando vuestra opinión sobre el trabajo."
   ]
  },
  {
   "attachments": {},
   "cell_type": "markdown",
   "id": "34155dc7",
   "metadata": {},
   "source": [
    "\n",
    "### 2. Librerías"
   ]
  },
  {
   "cell_type": "code",
   "execution_count": 2,
   "id": "012cba5f",
   "metadata": {},
   "outputs": [],
   "source": [
    "# importamos las librerias necesarias e iniciamos spark\n",
    "import pandas as pd\n",
    "from datetime import datetime\n",
    "\n",
    "import findspark\n",
    "findspark.init()\n",
    "\n",
    "import pyspark # only run after findspark.init()\n",
    "from pyspark.sql import SparkSession\n",
    "spark = SparkSession.builder.getOrCreate()"
   ]
  },
  {
   "attachments": {},
   "cell_type": "markdown",
   "id": "602546dd",
   "metadata": {},
   "source": [
    "### 3. Parte A"
   ]
  },
  {
   "attachments": {},
   "cell_type": "markdown",
   "id": "5326916c",
   "metadata": {},
   "source": [
    "#### Python"
   ]
  },
  {
   "attachments": {},
   "cell_type": "markdown",
   "id": "b26f8f55",
   "metadata": {},
   "source": [
    "A continuación se realiza el apartado de la práctica en python"
   ]
  },
  {
   "cell_type": "code",
   "execution_count": 3,
   "id": "0d1f932a",
   "metadata": {},
   "outputs": [
    {
     "data": {
      "text/html": [
       "<div>\n",
       "<style scoped>\n",
       "    .dataframe tbody tr th:only-of-type {\n",
       "        vertical-align: middle;\n",
       "    }\n",
       "\n",
       "    .dataframe tbody tr th {\n",
       "        vertical-align: top;\n",
       "    }\n",
       "\n",
       "    .dataframe thead th {\n",
       "        text-align: right;\n",
       "    }\n",
       "</style>\n",
       "<table border=\"1\" class=\"dataframe\">\n",
       "  <thead>\n",
       "    <tr style=\"text-align: right;\">\n",
       "      <th></th>\n",
       "      <th>userId</th>\n",
       "      <th>movieId</th>\n",
       "      <th>rating</th>\n",
       "      <th>timestamp</th>\n",
       "    </tr>\n",
       "  </thead>\n",
       "  <tbody>\n",
       "    <tr>\n",
       "      <th>0</th>\n",
       "      <td>1</td>\n",
       "      <td>307</td>\n",
       "      <td>3.5</td>\n",
       "      <td>1256677221</td>\n",
       "    </tr>\n",
       "    <tr>\n",
       "      <th>1</th>\n",
       "      <td>1</td>\n",
       "      <td>481</td>\n",
       "      <td>3.5</td>\n",
       "      <td>1256677456</td>\n",
       "    </tr>\n",
       "    <tr>\n",
       "      <th>2</th>\n",
       "      <td>1</td>\n",
       "      <td>1091</td>\n",
       "      <td>1.5</td>\n",
       "      <td>1256677471</td>\n",
       "    </tr>\n",
       "    <tr>\n",
       "      <th>3</th>\n",
       "      <td>1</td>\n",
       "      <td>1257</td>\n",
       "      <td>4.5</td>\n",
       "      <td>1256677460</td>\n",
       "    </tr>\n",
       "    <tr>\n",
       "      <th>4</th>\n",
       "      <td>1</td>\n",
       "      <td>1449</td>\n",
       "      <td>4.5</td>\n",
       "      <td>1256677264</td>\n",
       "    </tr>\n",
       "  </tbody>\n",
       "</table>\n",
       "</div>"
      ],
      "text/plain": [
       "   userId  movieId  rating   timestamp\n",
       "0       1      307     3.5  1256677221\n",
       "1       1      481     3.5  1256677456\n",
       "2       1     1091     1.5  1256677471\n",
       "3       1     1257     4.5  1256677460\n",
       "4       1     1449     4.5  1256677264"
      ]
     },
     "execution_count": 3,
     "metadata": {},
     "output_type": "execute_result"
    }
   ],
   "source": [
    "# cargamos los datos de ratings\n",
    "ratings = pd.read_csv(\"./ml-latest/ratings.csv\")\n",
    "ratings.head()"
   ]
  },
  {
   "cell_type": "code",
   "execution_count": 4,
   "id": "65882c2a",
   "metadata": {},
   "outputs": [
    {
     "data": {
      "text/html": [
       "<div>\n",
       "<style scoped>\n",
       "    .dataframe tbody tr th:only-of-type {\n",
       "        vertical-align: middle;\n",
       "    }\n",
       "\n",
       "    .dataframe tbody tr th {\n",
       "        vertical-align: top;\n",
       "    }\n",
       "\n",
       "    .dataframe thead th {\n",
       "        text-align: right;\n",
       "    }\n",
       "</style>\n",
       "<table border=\"1\" class=\"dataframe\">\n",
       "  <thead>\n",
       "    <tr style=\"text-align: right;\">\n",
       "      <th></th>\n",
       "      <th>movieId</th>\n",
       "      <th>title</th>\n",
       "      <th>genres</th>\n",
       "    </tr>\n",
       "  </thead>\n",
       "  <tbody>\n",
       "    <tr>\n",
       "      <th>0</th>\n",
       "      <td>1</td>\n",
       "      <td>Toy Story (1995)</td>\n",
       "      <td>Adventure|Animation|Children|Comedy|Fantasy</td>\n",
       "    </tr>\n",
       "    <tr>\n",
       "      <th>1</th>\n",
       "      <td>2</td>\n",
       "      <td>Jumanji (1995)</td>\n",
       "      <td>Adventure|Children|Fantasy</td>\n",
       "    </tr>\n",
       "    <tr>\n",
       "      <th>2</th>\n",
       "      <td>3</td>\n",
       "      <td>Grumpier Old Men (1995)</td>\n",
       "      <td>Comedy|Romance</td>\n",
       "    </tr>\n",
       "    <tr>\n",
       "      <th>3</th>\n",
       "      <td>4</td>\n",
       "      <td>Waiting to Exhale (1995)</td>\n",
       "      <td>Comedy|Drama|Romance</td>\n",
       "    </tr>\n",
       "    <tr>\n",
       "      <th>4</th>\n",
       "      <td>5</td>\n",
       "      <td>Father of the Bride Part II (1995)</td>\n",
       "      <td>Comedy</td>\n",
       "    </tr>\n",
       "  </tbody>\n",
       "</table>\n",
       "</div>"
      ],
      "text/plain": [
       "   movieId                               title   \n",
       "0        1                    Toy Story (1995)  \\\n",
       "1        2                      Jumanji (1995)   \n",
       "2        3             Grumpier Old Men (1995)   \n",
       "3        4            Waiting to Exhale (1995)   \n",
       "4        5  Father of the Bride Part II (1995)   \n",
       "\n",
       "                                        genres  \n",
       "0  Adventure|Animation|Children|Comedy|Fantasy  \n",
       "1                   Adventure|Children|Fantasy  \n",
       "2                               Comedy|Romance  \n",
       "3                         Comedy|Drama|Romance  \n",
       "4                                       Comedy  "
      ]
     },
     "execution_count": 4,
     "metadata": {},
     "output_type": "execute_result"
    }
   ],
   "source": [
    "# cargamos los datos de las peliculas\n",
    "movies = pd.read_csv(\"./ml-latest/movies.csv\")\n",
    "movies.head()"
   ]
  },
  {
   "cell_type": "code",
   "execution_count": 5,
   "id": "5ed28321",
   "metadata": {},
   "outputs": [
    {
     "name": "stdout",
     "output_type": "stream",
     "text": [
      "rating\n",
      "0.5     442388\n",
      "1.0     886233\n",
      "1.5     441354\n",
      "2.0    1850627\n",
      "2.5    1373419\n",
      "3.0    5515668\n",
      "3.5    3404360\n",
      "4.0    7394710\n",
      "4.5    2373550\n",
      "5.0    4071135\n",
      "Name: count, dtype: int64\n",
      "Duration: 0:00:00.272542\n"
     ]
    }
   ],
   "source": [
    "# iniciamos el tiempo\n",
    "start_time = datetime.now()\n",
    "# contamos los ratings y los ordenamos\n",
    "count = ratings['rating'].value_counts().sort_index()\n",
    "# terminamos el tiempo\n",
    "end_time = datetime.now()\n",
    "# imprimimos el resultado\n",
    "print(count)\n",
    "# imprimimos el tiempo\n",
    "print('Duration: {}'.format(end_time - start_time))"
   ]
  },
  {
   "cell_type": "code",
   "execution_count": 6,
   "id": "af865557",
   "metadata": {},
   "outputs": [
    {
     "name": "stdout",
     "output_type": "stream",
     "text": [
      "Duration: 0:00:00.978666\n"
     ]
    }
   ],
   "source": [
    "# iniciamos el tiempo\n",
    "start_time2 = datetime.now()\n",
    "# dropeamos las columnas que no necesitamos\n",
    "ratings2=ratings.drop(columns=['userId', 'timestamp'])\n",
    "# agrupamos por pelicula y calculamos la media\n",
    "mean=ratings2.groupby(['movieId']).mean()\n",
    "# union de las dos tablas\n",
    "movies_rating = pd.merge(movies, mean, on=\"movieId\", how='left')\n",
    "# transformamos el dataframe a csv\n",
    "movies_rating.to_csv('movies_rating.csv')\n",
    "# terminamos el tiempo\n",
    "end_time2 = datetime.now()\n",
    "# imprimimos el tiempo\n",
    "print('Duration: {}'.format(end_time2 - start_time2))"
   ]
  },
  {
   "cell_type": "markdown",
   "id": "340c4c41",
   "metadata": {},
   "source": [
    "### 4. Parte B"
   ]
  },
  {
   "attachments": {},
   "cell_type": "markdown",
   "id": "08d9345f",
   "metadata": {},
   "source": [
    "#### Spark"
   ]
  },
  {
   "cell_type": "code",
   "execution_count": 7,
   "id": "6d7caf8a",
   "metadata": {},
   "outputs": [
    {
     "name": "stdout",
     "output_type": "stream",
     "text": [
      "+-------+--------------------+--------------------+\n",
      "|movieId|               title|              genres|\n",
      "+-------+--------------------+--------------------+\n",
      "|      1|    Toy Story (1995)|Adventure|Animati...|\n",
      "|      2|      Jumanji (1995)|Adventure|Childre...|\n",
      "|      3|Grumpier Old Men ...|      Comedy|Romance|\n",
      "|      4|Waiting to Exhale...|Comedy|Drama|Romance|\n",
      "|      5|Father of the Bri...|              Comedy|\n",
      "|      6|         Heat (1995)|Action|Crime|Thri...|\n",
      "|      7|      Sabrina (1995)|      Comedy|Romance|\n",
      "|      8| Tom and Huck (1995)|  Adventure|Children|\n",
      "|      9| Sudden Death (1995)|              Action|\n",
      "|     10|    GoldenEye (1995)|Action|Adventure|...|\n",
      "+-------+--------------------+--------------------+\n",
      "only showing top 10 rows\n",
      "\n"
     ]
    }
   ],
   "source": [
    "# lectura de csv en spark de peliculas\n",
    "movies = spark.read.csv('./ml-latest/movies.csv', header = True, inferSchema = 'true')\n",
    "movies.show(10)"
   ]
  },
  {
   "cell_type": "code",
   "execution_count": 8,
   "id": "4d9caf8b",
   "metadata": {},
   "outputs": [
    {
     "name": "stdout",
     "output_type": "stream",
     "text": [
      "+------+-------+------+----------+\n",
      "|userId|movieId|rating| timestamp|\n",
      "+------+-------+------+----------+\n",
      "|     1|    307|   3.5|1256677221|\n",
      "|     1|    481|   3.5|1256677456|\n",
      "|     1|   1091|   1.5|1256677471|\n",
      "|     1|   1257|   4.5|1256677460|\n",
      "|     1|   1449|   4.5|1256677264|\n",
      "|     1|   1590|   2.5|1256677236|\n",
      "|     1|   1591|   1.5|1256677475|\n",
      "|     1|   2134|   4.5|1256677464|\n",
      "|     1|   2478|   4.0|1256677239|\n",
      "|     1|   2840|   3.0|1256677500|\n",
      "+------+-------+------+----------+\n",
      "only showing top 10 rows\n",
      "\n"
     ]
    }
   ],
   "source": [
    "# lectura de csv en spark de ratings\n",
    "ratings = spark.read.csv('./ml-latest/ratings.csv', header = True, inferSchema = 'true') \n",
    "ratings.show(10)"
   ]
  },
  {
   "cell_type": "code",
   "execution_count": 9,
   "id": "fae4bdfb",
   "metadata": {},
   "outputs": [
    {
     "name": "stdout",
     "output_type": "stream",
     "text": [
      "+------+-------+\n",
      "|rating|  count|\n",
      "+------+-------+\n",
      "|   5.0|4071135|\n",
      "|   4.5|2373550|\n",
      "|   4.0|7394710|\n",
      "|   3.5|3404360|\n",
      "|   3.0|5515668|\n",
      "|   2.5|1373419|\n",
      "|   2.0|1850627|\n",
      "|   1.5| 441354|\n",
      "|   1.0| 886233|\n",
      "|   0.5| 442388|\n",
      "+------+-------+\n",
      "\n",
      "Duration: 0:00:03.752703\n"
     ]
    }
   ],
   "source": [
    "# iniciamos el tiempo\n",
    "start_time = datetime.now()\n",
    "# Contar cuántas veces aparece cada tipo de valoración y que se muestre por pantalla de forma ordenada\n",
    "count = ratings.groupBy('rating').count().orderBy('rating', ascending=False).show()\n",
    "# terminamos el tiempo\n",
    "end_time = datetime.now()\n",
    "# imprimimos el tiempo\n",
    "print('Duration: {}'.format(end_time - start_time))"
   ]
  },
  {
   "cell_type": "code",
   "execution_count": 10,
   "id": "afc87551",
   "metadata": {},
   "outputs": [
    {
     "name": "stdout",
     "output_type": "stream",
     "text": [
      "+-------+--------------------+--------------------+------------------+\n",
      "|movieId|               title|              genres|       avg(rating)|\n",
      "+-------+--------------------+--------------------+------------------+\n",
      "|      1|    Toy Story (1995)|Adventure|Animati...|3.8866494325899312|\n",
      "|      3|Grumpier Old Men ...|      Comedy|Romance| 3.173981392364453|\n",
      "|      5|Father of the Bri...|              Comedy|3.0772909396406876|\n",
      "|      6|         Heat (1995)|Action|Crime|Thri...|3.8442108566049575|\n",
      "|      4|Waiting to Exhale...|Comedy|Drama|Romance| 2.874539979926397|\n",
      "+-------+--------------------+--------------------+------------------+\n",
      "only showing top 5 rows\n",
      "\n",
      "Duration: 0:00:00.047635\n"
     ]
    }
   ],
   "source": [
    "# iniciamos el tiempo\n",
    "start_time = datetime.now()\n",
    "# agrupamos por pelicula y calculamos la media\n",
    "ratings_mean = ratings.groupBy('movieID').agg({'rating':'mean'})\n",
    "# union de las dos tablas\n",
    "movie_ratings = movies.join(ratings_mean, on = 'movieID', how = 'left')\n",
    "# guardar el dataset en un csv\n",
    "movie_ratings.toPandas().to_csv(\"./movies_ratings_spark.csv\", header=True)\n",
    "# terminamos el tiempo\n",
    "end_time = datetime.now()\n",
    "# imprimimos el dataframe\n",
    "movie_ratings.show(5)\n",
    "# imprimimos el tiempo\n",
    "print('Duration: {}'.format(end_time - start_time))"
   ]
  },
  {
   "cell_type": "code",
   "execution_count": null,
   "id": "3e363ed3",
   "metadata": {},
   "outputs": [],
   "source": []
  },
  {
   "cell_type": "code",
   "execution_count": null,
   "id": "e46f4563",
   "metadata": {},
   "outputs": [],
   "source": []
  }
 ],
 "metadata": {
  "kernelspec": {
   "display_name": "Python 3 (ipykernel)",
   "language": "python",
   "name": "python3"
  },
  "language_info": {
   "codemirror_mode": {
    "name": "ipython",
    "version": 3
   },
   "file_extension": ".py",
   "mimetype": "text/x-python",
   "name": "python",
   "nbconvert_exporter": "python",
   "pygments_lexer": "ipython3",
   "version": "3.11.3"
  }
 },
 "nbformat": 4,
 "nbformat_minor": 5
}
